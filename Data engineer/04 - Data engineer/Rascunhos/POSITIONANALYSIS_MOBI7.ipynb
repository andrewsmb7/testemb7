{
 "cells": [
  {
   "cell_type": "code",
   "execution_count": 362,
   "metadata": {},
   "outputs": [
    {
     "name": "stdout",
     "output_type": "stream",
     "text": [
      "Requirement already satisfied: geopy in c:\\users\\andrews.alves\\appdata\\local\\continuum\\anaconda3\\lib\\site-packages (2.0.0)\n",
      "Requirement already satisfied: geographiclib<2,>=1.49 in c:\\users\\andrews.alves\\appdata\\local\\continuum\\anaconda3\\lib\\site-packages (from geopy) (1.50)\n"
     ]
    },
    {
     "name": "stderr",
     "output_type": "stream",
     "text": [
      "distributed 1.21.8 requires msgpack, which is not installed.\n",
      "You are using pip version 10.0.1, however version 20.3b1 is available.\n",
      "You should consider upgrading via the 'python -m pip install --upgrade pip' command.\n"
     ]
    },
    {
     "name": "stdout",
     "output_type": "stream",
     "text": [
      "Requirement already satisfied: plotly in c:\\users\\andrews.alves\\appdata\\local\\continuum\\anaconda3\\lib\\site-packages (4.12.0)\n",
      "Requirement already satisfied: six in c:\\users\\andrews.alves\\appdata\\local\\continuum\\anaconda3\\lib\\site-packages (from plotly) (1.11.0)\n",
      "Requirement already satisfied: retrying>=1.3.3 in c:\\users\\andrews.alves\\appdata\\local\\continuum\\anaconda3\\lib\\site-packages (from plotly) (1.3.3)\n"
     ]
    },
    {
     "name": "stderr",
     "output_type": "stream",
     "text": [
      "distributed 1.21.8 requires msgpack, which is not installed.\n",
      "You are using pip version 10.0.1, however version 20.3b1 is available.\n",
      "You should consider upgrading via the 'python -m pip install --upgrade pip' command.\n"
     ]
    }
   ],
   "source": [
    "!pip install geopy\n",
    "!pip install plotly"
   ]
  },
  {
   "cell_type": "code",
   "execution_count": 363,
   "metadata": {},
   "outputs": [],
   "source": [
    "import pandas as pd\n",
    "import numpy as np\n",
    "from datetime import datetime\n",
    "from datetime import timedelta\n",
    "import locale\n",
    "import geopy.distance \n",
    "import plotly.graph_objects as go\n",
    " "
   ]
  },
  {
   "cell_type": "code",
   "execution_count": 364,
   "metadata": {},
   "outputs": [],
   "source": [
    "#Importing databases\n",
    "\n",
    "df1 = pd.read_csv(\"C:/Users/andrews.alves/Desktop/TESTE MOB7/Data engineer/04 - Data engineer/Databases/posicoes.csv\", sep = \",\", encoding=\"ISO-8859-1\")\n",
    "df2 = pd.read_csv(\"C:/Users/andrews.alves/Desktop/TESTE MOB7/Data engineer/04 - Data engineer/Databases/base_pois_def.csv\", sep = \",\", encoding=\"ISO-8859-1\")"
   ]
  },
  {
   "cell_type": "code",
   "execution_count": 365,
   "metadata": {},
   "outputs": [],
   "source": [
    "#df1['data_posicao'] = pd.to_datetime(df1['data_posicao'], format='%d-%B-%Y ')"
   ]
  },
  {
   "cell_type": "code",
   "execution_count": 366,
   "metadata": {},
   "outputs": [],
   "source": [
    "#Creating new column to storage car status: Moving or Stopped \n",
    "df1['Status'] = 'NaN'"
   ]
  },
  {
   "cell_type": "code",
   "execution_count": 367,
   "metadata": {},
   "outputs": [],
   "source": [
    "for index, row in df1.iterrows():\n",
    "    if row['velocidade'] <= 5 or row['ignicao'] == \"False\":\n",
    "        df1.loc[index,'Status'] = \"Stopped\"  \n",
    "    else: \n",
    "        df1.loc[index,'Status'] = \"Moving\"     "
   ]
  },
  {
   "cell_type": "code",
   "execution_count": 368,
   "metadata": {},
   "outputs": [],
   "source": [
    "df1[\"DataHora\"] = df1[\"data_posicao\"].str[3:]"
   ]
  },
  {
   "cell_type": "code",
   "execution_count": 370,
   "metadata": {},
   "outputs": [
    {
     "ename": "AttributeError",
     "evalue": "'str' object has no attribute 'time'",
     "output_type": "error",
     "traceback": [
      "\u001b[1;31m---------------------------------------------------------------------------\u001b[0m",
      "\u001b[1;31mAttributeError\u001b[0m                            Traceback (most recent call last)",
      "\u001b[1;32m<ipython-input-370-9514f3957757>\u001b[0m in \u001b[0;36m<module>\u001b[1;34m()\u001b[0m\n\u001b[0;32m      3\u001b[0m \u001b[0mdf1\u001b[0m\u001b[1;33m[\u001b[0m\u001b[1;34m'DataHora'\u001b[0m\u001b[1;33m]\u001b[0m \u001b[1;33m=\u001b[0m \u001b[0mpd\u001b[0m\u001b[1;33m.\u001b[0m\u001b[0mto_datetime\u001b[0m\u001b[1;33m(\u001b[0m\u001b[0mdf1\u001b[0m\u001b[1;33m[\u001b[0m\u001b[1;34m'DataHora'\u001b[0m\u001b[1;33m]\u001b[0m\u001b[1;33m)\u001b[0m\u001b[1;33m\u001b[0m\u001b[0m\n\u001b[0;32m      4\u001b[0m \u001b[1;33m\u001b[0m\u001b[0m\n\u001b[1;32m----> 5\u001b[1;33m \u001b[0mdf1\u001b[0m\u001b[1;33m[\u001b[0m\u001b[1;34m'Time'\u001b[0m\u001b[1;33m]\u001b[0m\u001b[1;33m,\u001b[0m\u001b[0mdf1\u001b[0m\u001b[1;33m[\u001b[0m\u001b[1;34m'Date'\u001b[0m\u001b[1;33m]\u001b[0m\u001b[1;33m=\u001b[0m \u001b[0mdf1\u001b[0m\u001b[1;33m[\u001b[0m\u001b[1;34m'Date'\u001b[0m\u001b[1;33m]\u001b[0m\u001b[1;33m.\u001b[0m\u001b[0mapply\u001b[0m\u001b[1;33m(\u001b[0m\u001b[1;32mlambda\u001b[0m \u001b[0mx\u001b[0m\u001b[1;33m:\u001b[0m\u001b[0mx\u001b[0m\u001b[1;33m.\u001b[0m\u001b[0mtime\u001b[0m\u001b[1;33m(\u001b[0m\u001b[1;33m)\u001b[0m\u001b[1;33m)\u001b[0m\u001b[1;33m,\u001b[0m \u001b[0mdf1\u001b[0m\u001b[1;33m[\u001b[0m\u001b[1;34m'Date'\u001b[0m\u001b[1;33m]\u001b[0m\u001b[1;33m.\u001b[0m\u001b[0mapply\u001b[0m\u001b[1;33m(\u001b[0m\u001b[1;32mlambda\u001b[0m \u001b[0mx\u001b[0m\u001b[1;33m:\u001b[0m\u001b[0mx\u001b[0m\u001b[1;33m.\u001b[0m\u001b[0mdate\u001b[0m\u001b[1;33m(\u001b[0m\u001b[1;33m)\u001b[0m\u001b[1;33m)\u001b[0m\u001b[1;33m\u001b[0m\u001b[0m\n\u001b[0m",
      "\u001b[1;32m~\\AppData\\Local\\Continuum\\anaconda3\\lib\\site-packages\\pandas\\core\\series.py\u001b[0m in \u001b[0;36mapply\u001b[1;34m(self, func, convert_dtype, args, **kwds)\u001b[0m\n\u001b[0;32m   3190\u001b[0m             \u001b[1;32melse\u001b[0m\u001b[1;33m:\u001b[0m\u001b[1;33m\u001b[0m\u001b[0m\n\u001b[0;32m   3191\u001b[0m                 \u001b[0mvalues\u001b[0m \u001b[1;33m=\u001b[0m \u001b[0mself\u001b[0m\u001b[1;33m.\u001b[0m\u001b[0mastype\u001b[0m\u001b[1;33m(\u001b[0m\u001b[0mobject\u001b[0m\u001b[1;33m)\u001b[0m\u001b[1;33m.\u001b[0m\u001b[0mvalues\u001b[0m\u001b[1;33m\u001b[0m\u001b[0m\n\u001b[1;32m-> 3192\u001b[1;33m                 \u001b[0mmapped\u001b[0m \u001b[1;33m=\u001b[0m \u001b[0mlib\u001b[0m\u001b[1;33m.\u001b[0m\u001b[0mmap_infer\u001b[0m\u001b[1;33m(\u001b[0m\u001b[0mvalues\u001b[0m\u001b[1;33m,\u001b[0m \u001b[0mf\u001b[0m\u001b[1;33m,\u001b[0m \u001b[0mconvert\u001b[0m\u001b[1;33m=\u001b[0m\u001b[0mconvert_dtype\u001b[0m\u001b[1;33m)\u001b[0m\u001b[1;33m\u001b[0m\u001b[0m\n\u001b[0m\u001b[0;32m   3193\u001b[0m \u001b[1;33m\u001b[0m\u001b[0m\n\u001b[0;32m   3194\u001b[0m         \u001b[1;32mif\u001b[0m \u001b[0mlen\u001b[0m\u001b[1;33m(\u001b[0m\u001b[0mmapped\u001b[0m\u001b[1;33m)\u001b[0m \u001b[1;32mand\u001b[0m \u001b[0misinstance\u001b[0m\u001b[1;33m(\u001b[0m\u001b[0mmapped\u001b[0m\u001b[1;33m[\u001b[0m\u001b[1;36m0\u001b[0m\u001b[1;33m]\u001b[0m\u001b[1;33m,\u001b[0m \u001b[0mSeries\u001b[0m\u001b[1;33m)\u001b[0m\u001b[1;33m:\u001b[0m\u001b[1;33m\u001b[0m\u001b[0m\n",
      "\u001b[1;32mpandas/_libs/src\\inference.pyx\u001b[0m in \u001b[0;36mpandas._libs.lib.map_infer\u001b[1;34m()\u001b[0m\n",
      "\u001b[1;32m<ipython-input-370-9514f3957757>\u001b[0m in \u001b[0;36m<lambda>\u001b[1;34m(x)\u001b[0m\n\u001b[0;32m      3\u001b[0m \u001b[0mdf1\u001b[0m\u001b[1;33m[\u001b[0m\u001b[1;34m'DataHora'\u001b[0m\u001b[1;33m]\u001b[0m \u001b[1;33m=\u001b[0m \u001b[0mpd\u001b[0m\u001b[1;33m.\u001b[0m\u001b[0mto_datetime\u001b[0m\u001b[1;33m(\u001b[0m\u001b[0mdf1\u001b[0m\u001b[1;33m[\u001b[0m\u001b[1;34m'DataHora'\u001b[0m\u001b[1;33m]\u001b[0m\u001b[1;33m)\u001b[0m\u001b[1;33m\u001b[0m\u001b[0m\n\u001b[0;32m      4\u001b[0m \u001b[1;33m\u001b[0m\u001b[0m\n\u001b[1;32m----> 5\u001b[1;33m \u001b[0mdf1\u001b[0m\u001b[1;33m[\u001b[0m\u001b[1;34m'Time'\u001b[0m\u001b[1;33m]\u001b[0m\u001b[1;33m,\u001b[0m\u001b[0mdf1\u001b[0m\u001b[1;33m[\u001b[0m\u001b[1;34m'Date'\u001b[0m\u001b[1;33m]\u001b[0m\u001b[1;33m=\u001b[0m \u001b[0mdf1\u001b[0m\u001b[1;33m[\u001b[0m\u001b[1;34m'Date'\u001b[0m\u001b[1;33m]\u001b[0m\u001b[1;33m.\u001b[0m\u001b[0mapply\u001b[0m\u001b[1;33m(\u001b[0m\u001b[1;32mlambda\u001b[0m \u001b[0mx\u001b[0m\u001b[1;33m:\u001b[0m\u001b[0mx\u001b[0m\u001b[1;33m.\u001b[0m\u001b[0mtime\u001b[0m\u001b[1;33m(\u001b[0m\u001b[1;33m)\u001b[0m\u001b[1;33m)\u001b[0m\u001b[1;33m,\u001b[0m \u001b[0mdf1\u001b[0m\u001b[1;33m[\u001b[0m\u001b[1;34m'Date'\u001b[0m\u001b[1;33m]\u001b[0m\u001b[1;33m.\u001b[0m\u001b[0mapply\u001b[0m\u001b[1;33m(\u001b[0m\u001b[1;32mlambda\u001b[0m \u001b[0mx\u001b[0m\u001b[1;33m:\u001b[0m\u001b[0mx\u001b[0m\u001b[1;33m.\u001b[0m\u001b[0mdate\u001b[0m\u001b[1;33m(\u001b[0m\u001b[1;33m)\u001b[0m\u001b[1;33m)\u001b[0m\u001b[1;33m\u001b[0m\u001b[0m\n\u001b[0m",
      "\u001b[1;31mAttributeError\u001b[0m: 'str' object has no attribute 'time'"
     ]
    }
   ],
   "source": [
    "df1['Date'] = \"\"\n",
    "df1['Time'] = \"\"\n",
    "df1['DataHora'] = pd.to_datetime(df1['DataHora'])\n",
    "\n",
    "df1['Time'],df1['Date']= df1['Date'].apply(lambda x:x.time()), df1['Date'].apply(lambda x:x.date())\n"
   ]
  },
  {
   "cell_type": "code",
   "execution_count": 354,
   "metadata": {},
   "outputs": [
    {
     "data": {
      "text/html": [
       "<div>\n",
       "<style scoped>\n",
       "    .dataframe tbody tr th:only-of-type {\n",
       "        vertical-align: middle;\n",
       "    }\n",
       "\n",
       "    .dataframe tbody tr th {\n",
       "        vertical-align: top;\n",
       "    }\n",
       "\n",
       "    .dataframe thead th {\n",
       "        text-align: right;\n",
       "    }\n",
       "</style>\n",
       "<table border=\"1\" class=\"dataframe\">\n",
       "  <thead>\n",
       "    <tr style=\"text-align: right;\">\n",
       "      <th></th>\n",
       "      <th>placa</th>\n",
       "      <th>data_posicao</th>\n",
       "      <th>velocidade</th>\n",
       "      <th>longitude</th>\n",
       "      <th>latitude</th>\n",
       "      <th>ignicao</th>\n",
       "      <th>Status</th>\n",
       "      <th>DataHora</th>\n",
       "      <th>StopHour</th>\n",
       "      <th>Data</th>\n",
       "    </tr>\n",
       "  </thead>\n",
       "  <tbody>\n",
       "    <tr>\n",
       "      <th>0</th>\n",
       "      <td>TESTE001</td>\n",
       "      <td>Wed Dec 12 2018 00:04:03</td>\n",
       "      <td>0</td>\n",
       "      <td>-51.469891</td>\n",
       "      <td>-25.364914</td>\n",
       "      <td>False</td>\n",
       "      <td>Stopped</td>\n",
       "      <td>2018-12-12 00:04:03</td>\n",
       "      <td>2018-12-12 00:04:03</td>\n",
       "      <td>2018-12-12 00:04:03</td>\n",
       "    </tr>\n",
       "  </tbody>\n",
       "</table>\n",
       "</div>"
      ],
      "text/plain": [
       "      placa              data_posicao  velocidade  longitude   latitude  \\\n",
       "0  TESTE001  Wed Dec 12 2018 00:04:03           0 -51.469891 -25.364914   \n",
       "\n",
       "   ignicao   Status            DataHora            StopHour  \\\n",
       "0    False  Stopped 2018-12-12 00:04:03 2018-12-12 00:04:03   \n",
       "\n",
       "                  Data  \n",
       "0  2018-12-12 00:04:03  "
      ]
     },
     "execution_count": 354,
     "metadata": {},
     "output_type": "execute_result"
    }
   ],
   "source": [
    "df1.head(1)"
   ]
  },
  {
   "cell_type": "code",
   "execution_count": 276,
   "metadata": {},
   "outputs": [],
   "source": [
    "df1['DataHora'] = pd.to_datetime(df1['DataHora'], infer_datetime_format=True)"
   ]
  },
  {
   "cell_type": "code",
   "execution_count": 277,
   "metadata": {},
   "outputs": [
    {
     "data": {
      "text/html": [
       "<div>\n",
       "<style scoped>\n",
       "    .dataframe tbody tr th:only-of-type {\n",
       "        vertical-align: middle;\n",
       "    }\n",
       "\n",
       "    .dataframe tbody tr th {\n",
       "        vertical-align: top;\n",
       "    }\n",
       "\n",
       "    .dataframe thead th {\n",
       "        text-align: right;\n",
       "    }\n",
       "</style>\n",
       "<table border=\"1\" class=\"dataframe\">\n",
       "  <thead>\n",
       "    <tr style=\"text-align: right;\">\n",
       "      <th></th>\n",
       "      <th>placa</th>\n",
       "      <th>data_posicao</th>\n",
       "      <th>velocidade</th>\n",
       "      <th>longitude</th>\n",
       "      <th>latitude</th>\n",
       "      <th>ignicao</th>\n",
       "      <th>Status</th>\n",
       "      <th>DataHora</th>\n",
       "    </tr>\n",
       "  </thead>\n",
       "  <tbody>\n",
       "    <tr>\n",
       "      <th>0</th>\n",
       "      <td>TESTE001</td>\n",
       "      <td>Wed Dec 12 2018 00:04:03</td>\n",
       "      <td>0</td>\n",
       "      <td>-51.469891</td>\n",
       "      <td>-25.364914</td>\n",
       "      <td>False</td>\n",
       "      <td>Stopped</td>\n",
       "      <td>2018-12-12 00:04:03</td>\n",
       "    </tr>\n",
       "    <tr>\n",
       "      <th>1</th>\n",
       "      <td>TESTE001</td>\n",
       "      <td>Wed Dec 12 2018 00:34:06</td>\n",
       "      <td>0</td>\n",
       "      <td>-51.469910</td>\n",
       "      <td>-25.364917</td>\n",
       "      <td>False</td>\n",
       "      <td>Stopped</td>\n",
       "      <td>2018-12-12 00:34:06</td>\n",
       "    </tr>\n",
       "    <tr>\n",
       "      <th>2</th>\n",
       "      <td>TESTE001</td>\n",
       "      <td>Wed Dec 12 2018 01:04:09</td>\n",
       "      <td>0</td>\n",
       "      <td>-51.469959</td>\n",
       "      <td>-25.364955</td>\n",
       "      <td>False</td>\n",
       "      <td>Stopped</td>\n",
       "      <td>2018-12-12 01:04:09</td>\n",
       "    </tr>\n",
       "    <tr>\n",
       "      <th>3</th>\n",
       "      <td>TESTE001</td>\n",
       "      <td>Wed Dec 12 2018 01:34:12</td>\n",
       "      <td>0</td>\n",
       "      <td>-51.469887</td>\n",
       "      <td>-25.364914</td>\n",
       "      <td>False</td>\n",
       "      <td>Stopped</td>\n",
       "      <td>2018-12-12 01:34:12</td>\n",
       "    </tr>\n",
       "    <tr>\n",
       "      <th>4</th>\n",
       "      <td>TESTE001</td>\n",
       "      <td>Wed Dec 12 2018 02:04:15</td>\n",
       "      <td>0</td>\n",
       "      <td>-51.469922</td>\n",
       "      <td>-25.364885</td>\n",
       "      <td>False</td>\n",
       "      <td>Stopped</td>\n",
       "      <td>2018-12-12 02:04:15</td>\n",
       "    </tr>\n",
       "  </tbody>\n",
       "</table>\n",
       "</div>"
      ],
      "text/plain": [
       "      placa              data_posicao  velocidade  longitude   latitude  \\\n",
       "0  TESTE001  Wed Dec 12 2018 00:04:03           0 -51.469891 -25.364914   \n",
       "1  TESTE001  Wed Dec 12 2018 00:34:06           0 -51.469910 -25.364917   \n",
       "2  TESTE001  Wed Dec 12 2018 01:04:09           0 -51.469959 -25.364955   \n",
       "3  TESTE001  Wed Dec 12 2018 01:34:12           0 -51.469887 -25.364914   \n",
       "4  TESTE001  Wed Dec 12 2018 02:04:15           0 -51.469922 -25.364885   \n",
       "\n",
       "   ignicao   Status            DataHora  \n",
       "0    False  Stopped 2018-12-12 00:04:03  \n",
       "1    False  Stopped 2018-12-12 00:34:06  \n",
       "2    False  Stopped 2018-12-12 01:04:09  \n",
       "3    False  Stopped 2018-12-12 01:34:12  \n",
       "4    False  Stopped 2018-12-12 02:04:15  "
      ]
     },
     "execution_count": 277,
     "metadata": {},
     "output_type": "execute_result"
    }
   ],
   "source": [
    "df1.head()"
   ]
  },
  {
   "cell_type": "code",
   "execution_count": 278,
   "metadata": {},
   "outputs": [],
   "source": [
    "#df1[\"DataHora\"] = df1[\"DataHora\"].strftime(\"%d/%m/%Y %H:%M:%S\")"
   ]
  },
  {
   "cell_type": "code",
   "execution_count": null,
   "metadata": {},
   "outputs": [],
   "source": []
  },
  {
   "cell_type": "code",
   "execution_count": null,
   "metadata": {},
   "outputs": [],
   "source": []
  },
  {
   "cell_type": "code",
   "execution_count": 279,
   "metadata": {},
   "outputs": [],
   "source": [
    "#set actual date\n",
    "#data_atual = date.today()"
   ]
  },
  {
   "cell_type": "code",
   "execution_count": 280,
   "metadata": {},
   "outputs": [],
   "source": [
    "#data_e_hora_atuais = datetime.now()\n",
    "#data_e_hora_em_texto = data_e_hora_atuais.strftime(\"%d/%m/%Y %H:%M:%S\")"
   ]
  },
  {
   "cell_type": "code",
   "execution_count": 281,
   "metadata": {},
   "outputs": [],
   "source": [
    "#Adjusting actual date to BR format\n",
    "\n",
    "#data_e_hora_em_texto = data_e_hora_atuais.strftime(\"%d/%m/%Y %H:%M:%S\")\n",
    "#print(data_e_hora_em_texto)\n"
   ]
  },
  {
   "cell_type": "code",
   "execution_count": 282,
   "metadata": {},
   "outputs": [],
   "source": [
    "#Difference between two dates\n",
    "\n",
    "#diferenca = timedelta()\n",
    "#print(diferenca)"
   ]
  },
  {
   "cell_type": "code",
   "execution_count": 283,
   "metadata": {},
   "outputs": [
    {
     "data": {
      "text/html": [
       "<div>\n",
       "<style scoped>\n",
       "    .dataframe tbody tr th:only-of-type {\n",
       "        vertical-align: middle;\n",
       "    }\n",
       "\n",
       "    .dataframe tbody tr th {\n",
       "        vertical-align: top;\n",
       "    }\n",
       "\n",
       "    .dataframe thead th {\n",
       "        text-align: right;\n",
       "    }\n",
       "</style>\n",
       "<table border=\"1\" class=\"dataframe\">\n",
       "  <thead>\n",
       "    <tr style=\"text-align: right;\">\n",
       "      <th></th>\n",
       "      <th>nome</th>\n",
       "      <th>raio</th>\n",
       "      <th>latitude</th>\n",
       "      <th>longitude</th>\n",
       "    </tr>\n",
       "  </thead>\n",
       "  <tbody>\n",
       "    <tr>\n",
       "      <th>0</th>\n",
       "      <td>PONTO 1</td>\n",
       "      <td>300</td>\n",
       "      <td>-25.567427</td>\n",
       "      <td>-51.476534</td>\n",
       "    </tr>\n",
       "    <tr>\n",
       "      <th>1</th>\n",
       "      <td>PONTO 2</td>\n",
       "      <td>300</td>\n",
       "      <td>-25.568056</td>\n",
       "      <td>-51.480278</td>\n",
       "    </tr>\n",
       "    <tr>\n",
       "      <th>2</th>\n",
       "      <td>PONTO 3</td>\n",
       "      <td>250</td>\n",
       "      <td>-25.414167</td>\n",
       "      <td>-51.566944</td>\n",
       "    </tr>\n",
       "    <tr>\n",
       "      <th>3</th>\n",
       "      <td>PONTO 4</td>\n",
       "      <td>250</td>\n",
       "      <td>-25.718611</td>\n",
       "      <td>-51.831111</td>\n",
       "    </tr>\n",
       "    <tr>\n",
       "      <th>4</th>\n",
       "      <td>PONTO 5</td>\n",
       "      <td>163</td>\n",
       "      <td>-25.372405</td>\n",
       "      <td>-51.497343</td>\n",
       "    </tr>\n",
       "  </tbody>\n",
       "</table>\n",
       "</div>"
      ],
      "text/plain": [
       "      nome  raio   latitude  longitude\n",
       "0  PONTO 1   300 -25.567427 -51.476534\n",
       "1  PONTO 2   300 -25.568056 -51.480278\n",
       "2  PONTO 3   250 -25.414167 -51.566944\n",
       "3  PONTO 4   250 -25.718611 -51.831111\n",
       "4  PONTO 5   163 -25.372405 -51.497343"
      ]
     },
     "execution_count": 283,
     "metadata": {},
     "output_type": "execute_result"
    }
   ],
   "source": [
    "df2.head()"
   ]
  },
  {
   "cell_type": "code",
   "execution_count": 284,
   "metadata": {},
   "outputs": [],
   "source": [
    "#Converting Raio meters on Raio Km\n",
    "\n",
    "df2[\"raio_km\"] = df2[\"raio\"]/1000"
   ]
  },
  {
   "cell_type": "code",
   "execution_count": 285,
   "metadata": {},
   "outputs": [
    {
     "data": {
      "text/html": [
       "<div>\n",
       "<style scoped>\n",
       "    .dataframe tbody tr th:only-of-type {\n",
       "        vertical-align: middle;\n",
       "    }\n",
       "\n",
       "    .dataframe tbody tr th {\n",
       "        vertical-align: top;\n",
       "    }\n",
       "\n",
       "    .dataframe thead th {\n",
       "        text-align: right;\n",
       "    }\n",
       "</style>\n",
       "<table border=\"1\" class=\"dataframe\">\n",
       "  <thead>\n",
       "    <tr style=\"text-align: right;\">\n",
       "      <th></th>\n",
       "      <th>nome</th>\n",
       "      <th>raio</th>\n",
       "      <th>latitude</th>\n",
       "      <th>longitude</th>\n",
       "      <th>raio_km</th>\n",
       "    </tr>\n",
       "  </thead>\n",
       "  <tbody>\n",
       "    <tr>\n",
       "      <th>0</th>\n",
       "      <td>PONTO 1</td>\n",
       "      <td>300</td>\n",
       "      <td>-25.567427</td>\n",
       "      <td>-51.476534</td>\n",
       "      <td>0.300</td>\n",
       "    </tr>\n",
       "    <tr>\n",
       "      <th>1</th>\n",
       "      <td>PONTO 2</td>\n",
       "      <td>300</td>\n",
       "      <td>-25.568056</td>\n",
       "      <td>-51.480278</td>\n",
       "      <td>0.300</td>\n",
       "    </tr>\n",
       "    <tr>\n",
       "      <th>2</th>\n",
       "      <td>PONTO 3</td>\n",
       "      <td>250</td>\n",
       "      <td>-25.414167</td>\n",
       "      <td>-51.566944</td>\n",
       "      <td>0.250</td>\n",
       "    </tr>\n",
       "    <tr>\n",
       "      <th>3</th>\n",
       "      <td>PONTO 4</td>\n",
       "      <td>250</td>\n",
       "      <td>-25.718611</td>\n",
       "      <td>-51.831111</td>\n",
       "      <td>0.250</td>\n",
       "    </tr>\n",
       "    <tr>\n",
       "      <th>4</th>\n",
       "      <td>PONTO 5</td>\n",
       "      <td>163</td>\n",
       "      <td>-25.372405</td>\n",
       "      <td>-51.497343</td>\n",
       "      <td>0.163</td>\n",
       "    </tr>\n",
       "  </tbody>\n",
       "</table>\n",
       "</div>"
      ],
      "text/plain": [
       "      nome  raio   latitude  longitude  raio_km\n",
       "0  PONTO 1   300 -25.567427 -51.476534    0.300\n",
       "1  PONTO 2   300 -25.568056 -51.480278    0.300\n",
       "2  PONTO 3   250 -25.414167 -51.566944    0.250\n",
       "3  PONTO 4   250 -25.718611 -51.831111    0.250\n",
       "4  PONTO 5   163 -25.372405 -51.497343    0.163"
      ]
     },
     "execution_count": 285,
     "metadata": {},
     "output_type": "execute_result"
    }
   ],
   "source": [
    "df2.head()"
   ]
  },
  {
   "cell_type": "markdown",
   "metadata": {},
   "source": [
    "center_point = [{df1[\"latitude\"].iloc,df1[\"longitude\"].iloc}]\n",
    "test_point = [{df2[\"latitude\"].iloc,df2[\"longitude\"].iloc}]\n",
    "\n",
    "radius = 4000 # in kilometer"
   ]
  },
  {
   "cell_type": "code",
   "execution_count": 147,
   "metadata": {},
   "outputs": [
    {
     "name": "stdout",
     "output_type": "stream",
     "text": [
      "Distance: 11252.455732025132\n"
     ]
    }
   ],
   "source": [
    "#center_point_t = (center_point[0].values()) # (-7.7940023, 110.3656535)\n",
    "#test_point_t = (test_point[0].values()) # (-7.79457, 110.36563)\n",
    "\n",
    "#dis = distance.distance(center_point, test_point).km\n",
    "print(\"Distance: {}\".format(dis)) # Distance: 0.0628380925748918\n",
    "\n",
    "if dis <= radius:\n",
    "    df1[\"Status_Radius\"] = \"Inside\"\n",
    "    #print(\"{} point is inside the {} km radius from {} coordinate\".format(test_point_tuple, radius, center_point_tuple))\n",
    "else:\n",
    "    df1[\"Status_Radius\"] = \"Outside\"\n",
    "    #print(\"{} point is outside the {} km radius from {} coordinate\".format(test_point_tuple, radius, center_point_tuple))"
   ]
  },
  {
   "cell_type": "code",
   "execution_count": 286,
   "metadata": {},
   "outputs": [
    {
     "data": {
      "text/html": [
       "<div>\n",
       "<style scoped>\n",
       "    .dataframe tbody tr th:only-of-type {\n",
       "        vertical-align: middle;\n",
       "    }\n",
       "\n",
       "    .dataframe tbody tr th {\n",
       "        vertical-align: top;\n",
       "    }\n",
       "\n",
       "    .dataframe thead th {\n",
       "        text-align: right;\n",
       "    }\n",
       "</style>\n",
       "<table border=\"1\" class=\"dataframe\">\n",
       "  <thead>\n",
       "    <tr style=\"text-align: right;\">\n",
       "      <th></th>\n",
       "      <th>placa</th>\n",
       "      <th>data_posicao</th>\n",
       "      <th>velocidade</th>\n",
       "      <th>longitude</th>\n",
       "      <th>latitude</th>\n",
       "      <th>ignicao</th>\n",
       "      <th>Status</th>\n",
       "      <th>DataHora</th>\n",
       "    </tr>\n",
       "  </thead>\n",
       "  <tbody>\n",
       "    <tr>\n",
       "      <th>0</th>\n",
       "      <td>TESTE001</td>\n",
       "      <td>Wed Dec 12 2018 00:04:03</td>\n",
       "      <td>0</td>\n",
       "      <td>-51.469891</td>\n",
       "      <td>-25.364914</td>\n",
       "      <td>False</td>\n",
       "      <td>Stopped</td>\n",
       "      <td>2018-12-12 00:04:03</td>\n",
       "    </tr>\n",
       "    <tr>\n",
       "      <th>1</th>\n",
       "      <td>TESTE001</td>\n",
       "      <td>Wed Dec 12 2018 00:34:06</td>\n",
       "      <td>0</td>\n",
       "      <td>-51.469910</td>\n",
       "      <td>-25.364917</td>\n",
       "      <td>False</td>\n",
       "      <td>Stopped</td>\n",
       "      <td>2018-12-12 00:34:06</td>\n",
       "    </tr>\n",
       "    <tr>\n",
       "      <th>2</th>\n",
       "      <td>TESTE001</td>\n",
       "      <td>Wed Dec 12 2018 01:04:09</td>\n",
       "      <td>0</td>\n",
       "      <td>-51.469959</td>\n",
       "      <td>-25.364955</td>\n",
       "      <td>False</td>\n",
       "      <td>Stopped</td>\n",
       "      <td>2018-12-12 01:04:09</td>\n",
       "    </tr>\n",
       "    <tr>\n",
       "      <th>3</th>\n",
       "      <td>TESTE001</td>\n",
       "      <td>Wed Dec 12 2018 01:34:12</td>\n",
       "      <td>0</td>\n",
       "      <td>-51.469887</td>\n",
       "      <td>-25.364914</td>\n",
       "      <td>False</td>\n",
       "      <td>Stopped</td>\n",
       "      <td>2018-12-12 01:34:12</td>\n",
       "    </tr>\n",
       "    <tr>\n",
       "      <th>4</th>\n",
       "      <td>TESTE001</td>\n",
       "      <td>Wed Dec 12 2018 02:04:15</td>\n",
       "      <td>0</td>\n",
       "      <td>-51.469922</td>\n",
       "      <td>-25.364885</td>\n",
       "      <td>False</td>\n",
       "      <td>Stopped</td>\n",
       "      <td>2018-12-12 02:04:15</td>\n",
       "    </tr>\n",
       "  </tbody>\n",
       "</table>\n",
       "</div>"
      ],
      "text/plain": [
       "      placa              data_posicao  velocidade  longitude   latitude  \\\n",
       "0  TESTE001  Wed Dec 12 2018 00:04:03           0 -51.469891 -25.364914   \n",
       "1  TESTE001  Wed Dec 12 2018 00:34:06           0 -51.469910 -25.364917   \n",
       "2  TESTE001  Wed Dec 12 2018 01:04:09           0 -51.469959 -25.364955   \n",
       "3  TESTE001  Wed Dec 12 2018 01:34:12           0 -51.469887 -25.364914   \n",
       "4  TESTE001  Wed Dec 12 2018 02:04:15           0 -51.469922 -25.364885   \n",
       "\n",
       "   ignicao   Status            DataHora  \n",
       "0    False  Stopped 2018-12-12 00:04:03  \n",
       "1    False  Stopped 2018-12-12 00:34:06  \n",
       "2    False  Stopped 2018-12-12 01:04:09  \n",
       "3    False  Stopped 2018-12-12 01:34:12  \n",
       "4    False  Stopped 2018-12-12 02:04:15  "
      ]
     },
     "execution_count": 286,
     "metadata": {},
     "output_type": "execute_result"
    }
   ],
   "source": [
    "df1.head()"
   ]
  },
  {
   "cell_type": "code",
   "execution_count": 260,
   "metadata": {},
   "outputs": [],
   "source": [
    "#Total stopped hours - by car\n",
    "df1[\"StopHour\"] = \"\"\n",
    "\n",
    "for index, row in df1.iterrows():\n",
    "    if row[\"velocidade\"] <= 5:\n",
    "        df1[\"StopHour\"] = df1[\"DataHora\"]\n",
    "        #df1.loc[index,'Status'] = df1[\"DataHora\"]  \n",
    "    else: \n",
    "        df1[\"StopHour\"] == 0 \n",
    "        #df1.loc[index,'Status'] = \"Moving\"   "
   ]
  },
  {
   "cell_type": "code",
   "execution_count": 297,
   "metadata": {},
   "outputs": [],
   "source": [
    "#new_results = {}\n",
    "df1[\"StopHour\"] = \"\"\n",
    "for index, row in df1.iterrows():\n",
    "    df1[\"StopHour\"] = df1[\"DataHora\"] if row[\"velocidade\"] <= 5 else '0' \n",
    "\n",
    "#df1 = pd.DataFrame.from_dict(new_results, orient='index')"
   ]
  },
  {
   "cell_type": "code",
   "execution_count": 298,
   "metadata": {},
   "outputs": [
    {
     "data": {
      "text/html": [
       "<div>\n",
       "<style scoped>\n",
       "    .dataframe tbody tr th:only-of-type {\n",
       "        vertical-align: middle;\n",
       "    }\n",
       "\n",
       "    .dataframe tbody tr th {\n",
       "        vertical-align: top;\n",
       "    }\n",
       "\n",
       "    .dataframe thead th {\n",
       "        text-align: right;\n",
       "    }\n",
       "</style>\n",
       "<table border=\"1\" class=\"dataframe\">\n",
       "  <thead>\n",
       "    <tr style=\"text-align: right;\">\n",
       "      <th></th>\n",
       "      <th>placa</th>\n",
       "      <th>data_posicao</th>\n",
       "      <th>velocidade</th>\n",
       "      <th>longitude</th>\n",
       "      <th>latitude</th>\n",
       "      <th>ignicao</th>\n",
       "      <th>Status</th>\n",
       "      <th>DataHora</th>\n",
       "      <th>StopHour</th>\n",
       "    </tr>\n",
       "  </thead>\n",
       "  <tbody>\n",
       "    <tr>\n",
       "      <th>0</th>\n",
       "      <td>TESTE001</td>\n",
       "      <td>Wed Dec 12 2018 00:04:03</td>\n",
       "      <td>0</td>\n",
       "      <td>-51.469891</td>\n",
       "      <td>-25.364914</td>\n",
       "      <td>False</td>\n",
       "      <td>Stopped</td>\n",
       "      <td>2018-12-12 00:04:03</td>\n",
       "      <td>2018-12-12 00:04:03</td>\n",
       "    </tr>\n",
       "    <tr>\n",
       "      <th>1</th>\n",
       "      <td>TESTE001</td>\n",
       "      <td>Wed Dec 12 2018 00:34:06</td>\n",
       "      <td>0</td>\n",
       "      <td>-51.469910</td>\n",
       "      <td>-25.364917</td>\n",
       "      <td>False</td>\n",
       "      <td>Stopped</td>\n",
       "      <td>2018-12-12 00:34:06</td>\n",
       "      <td>2018-12-12 00:34:06</td>\n",
       "    </tr>\n",
       "    <tr>\n",
       "      <th>2</th>\n",
       "      <td>TESTE001</td>\n",
       "      <td>Wed Dec 12 2018 01:04:09</td>\n",
       "      <td>0</td>\n",
       "      <td>-51.469959</td>\n",
       "      <td>-25.364955</td>\n",
       "      <td>False</td>\n",
       "      <td>Stopped</td>\n",
       "      <td>2018-12-12 01:04:09</td>\n",
       "      <td>2018-12-12 01:04:09</td>\n",
       "    </tr>\n",
       "    <tr>\n",
       "      <th>3</th>\n",
       "      <td>TESTE001</td>\n",
       "      <td>Wed Dec 12 2018 01:34:12</td>\n",
       "      <td>0</td>\n",
       "      <td>-51.469887</td>\n",
       "      <td>-25.364914</td>\n",
       "      <td>False</td>\n",
       "      <td>Stopped</td>\n",
       "      <td>2018-12-12 01:34:12</td>\n",
       "      <td>2018-12-12 01:34:12</td>\n",
       "    </tr>\n",
       "    <tr>\n",
       "      <th>4</th>\n",
       "      <td>TESTE001</td>\n",
       "      <td>Wed Dec 12 2018 02:04:15</td>\n",
       "      <td>0</td>\n",
       "      <td>-51.469922</td>\n",
       "      <td>-25.364885</td>\n",
       "      <td>False</td>\n",
       "      <td>Stopped</td>\n",
       "      <td>2018-12-12 02:04:15</td>\n",
       "      <td>2018-12-12 02:04:15</td>\n",
       "    </tr>\n",
       "  </tbody>\n",
       "</table>\n",
       "</div>"
      ],
      "text/plain": [
       "      placa              data_posicao  velocidade  longitude   latitude  \\\n",
       "0  TESTE001  Wed Dec 12 2018 00:04:03           0 -51.469891 -25.364914   \n",
       "1  TESTE001  Wed Dec 12 2018 00:34:06           0 -51.469910 -25.364917   \n",
       "2  TESTE001  Wed Dec 12 2018 01:04:09           0 -51.469959 -25.364955   \n",
       "3  TESTE001  Wed Dec 12 2018 01:34:12           0 -51.469887 -25.364914   \n",
       "4  TESTE001  Wed Dec 12 2018 02:04:15           0 -51.469922 -25.364885   \n",
       "\n",
       "   ignicao   Status            DataHora            StopHour  \n",
       "0    False  Stopped 2018-12-12 00:04:03 2018-12-12 00:04:03  \n",
       "1    False  Stopped 2018-12-12 00:34:06 2018-12-12 00:34:06  \n",
       "2    False  Stopped 2018-12-12 01:04:09 2018-12-12 01:04:09  \n",
       "3    False  Stopped 2018-12-12 01:34:12 2018-12-12 01:34:12  \n",
       "4    False  Stopped 2018-12-12 02:04:15 2018-12-12 02:04:15  "
      ]
     },
     "execution_count": 298,
     "metadata": {},
     "output_type": "execute_result"
    }
   ],
   "source": [
    "df1.head()"
   ]
  },
  {
   "cell_type": "code",
   "execution_count": 304,
   "metadata": {},
   "outputs": [],
   "source": [
    "#Slicing only stopped cars\n",
    "df3 = df1.loc[df1['Status'] == 'Stopped']"
   ]
  },
  {
   "cell_type": "code",
   "execution_count": 323,
   "metadata": {},
   "outputs": [],
   "source": [
    "table = pd.pivot_table(df3, values='StopHour', index=['placa',''],\n",
    "                    aggfunc=np.sum)\n",
    "\n",
    "table = pd.pivot_table(df, values='D', index=['A', 'B'],\n",
    "                    columns=['C'], aggfunc=np.sum)"
   ]
  },
  {
   "cell_type": "code",
   "execution_count": 332,
   "metadata": {},
   "outputs": [
    {
     "data": {
      "text/html": [
       "<div>\n",
       "<style scoped>\n",
       "    .dataframe tbody tr th:only-of-type {\n",
       "        vertical-align: middle;\n",
       "    }\n",
       "\n",
       "    .dataframe tbody tr th {\n",
       "        vertical-align: top;\n",
       "    }\n",
       "\n",
       "    .dataframe thead th {\n",
       "        text-align: right;\n",
       "    }\n",
       "</style>\n",
       "<table border=\"1\" class=\"dataframe\">\n",
       "  <thead>\n",
       "    <tr style=\"text-align: right;\">\n",
       "      <th></th>\n",
       "    </tr>\n",
       "    <tr>\n",
       "      <th>placa</th>\n",
       "    </tr>\n",
       "  </thead>\n",
       "  <tbody>\n",
       "    <tr>\n",
       "      <th>CAR0012</th>\n",
       "    </tr>\n",
       "    <tr>\n",
       "      <th>TESTE001</th>\n",
       "    </tr>\n",
       "  </tbody>\n",
       "</table>\n",
       "</div>"
      ],
      "text/plain": [
       "Empty DataFrame\n",
       "Columns: []\n",
       "Index: [CAR0012, TESTE001]"
      ]
     },
     "execution_count": 332,
     "metadata": {},
     "output_type": "execute_result"
    }
   ],
   "source": [
    "table"
   ]
  },
  {
   "cell_type": "code",
   "execution_count": null,
   "metadata": {},
   "outputs": [],
   "source": []
  },
  {
   "cell_type": "code",
   "execution_count": null,
   "metadata": {},
   "outputs": [],
   "source": []
  },
  {
   "cell_type": "code",
   "execution_count": null,
   "metadata": {},
   "outputs": [],
   "source": []
  },
  {
   "cell_type": "code",
   "execution_count": null,
   "metadata": {},
   "outputs": [],
   "source": []
  },
  {
   "cell_type": "code",
   "execution_count": null,
   "metadata": {},
   "outputs": [],
   "source": []
  },
  {
   "cell_type": "markdown",
   "metadata": {},
   "source": [
    "fig.add_trace(go.Indicator(\n",
    "    mode = \"number+delta\",\n",
    "    value = df3[\"StopHour\"],\n",
    "    title = {\"text\": \"Accounts<br><span style='font-size:0.8em;color:gray'>Subtitle</span><br><span style='font-size:0.8em;color:gray'>Subsubtitle</span>\"},\n",
    "    delta = {'reference': 400, 'relative': True},\n",
    "    domain = {'x': [0.6, 1], 'y': [0, 1]}))\n",
    "\n",
    "fig.show()"
   ]
  },
  {
   "cell_type": "code",
   "execution_count": null,
   "metadata": {},
   "outputs": [],
   "source": []
  },
  {
   "cell_type": "code",
   "execution_count": null,
   "metadata": {},
   "outputs": [],
   "source": [
    " "
   ]
  },
  {
   "cell_type": "code",
   "execution_count": 371,
   "metadata": {},
   "outputs": [],
   "source": [
    "#output\n",
    "df1.to_csv('C:/Users/andrews.alves/Desktop/TESTE_MOBI7.csv', header=True, index=False, sep=',')"
   ]
  },
  {
   "cell_type": "code",
   "execution_count": null,
   "metadata": {},
   "outputs": [],
   "source": []
  },
  {
   "cell_type": "code",
   "execution_count": null,
   "metadata": {},
   "outputs": [],
   "source": []
  },
  {
   "cell_type": "code",
   "execution_count": null,
   "metadata": {},
   "outputs": [],
   "source": []
  },
  {
   "cell_type": "code",
   "execution_count": null,
   "metadata": {},
   "outputs": [],
   "source": []
  },
  {
   "cell_type": "code",
   "execution_count": null,
   "metadata": {},
   "outputs": [],
   "source": []
  },
  {
   "cell_type": "code",
   "execution_count": null,
   "metadata": {},
   "outputs": [],
   "source": []
  },
  {
   "cell_type": "code",
   "execution_count": null,
   "metadata": {},
   "outputs": [],
   "source": []
  },
  {
   "cell_type": "code",
   "execution_count": null,
   "metadata": {},
   "outputs": [],
   "source": []
  },
  {
   "cell_type": "code",
   "execution_count": null,
   "metadata": {},
   "outputs": [],
   "source": []
  },
  {
   "cell_type": "code",
   "execution_count": null,
   "metadata": {},
   "outputs": [],
   "source": []
  },
  {
   "cell_type": "code",
   "execution_count": null,
   "metadata": {},
   "outputs": [],
   "source": []
  },
  {
   "cell_type": "code",
   "execution_count": 71,
   "metadata": {},
   "outputs": [],
   "source": []
  },
  {
   "cell_type": "code",
   "execution_count": null,
   "metadata": {},
   "outputs": [],
   "source": []
  },
  {
   "cell_type": "markdown",
   "metadata": {},
   "source": [
    "s = pd.Series(['one string', 'another string', pd.Series([1, 2, 3])])\n",
    "\n",
    "def converter(x):\n",
    "    if isinstance(x, pd.Series):\n",
    "        return tuple(x.values)\n",
    "    else:\n",
    "        return x\n",
    "\n",
    "df1_tuple = df1.apply(converter).unique()\n",
    "df2_tuple = df1.apply(converter).unique()"
   ]
  },
  {
   "cell_type": "markdown",
   "metadata": {},
   "source": [
    "colunas = df1.columns.values\n",
    "df1tupla = [tuple(x) for x in [df1[coluna].values for coluna in colunas]]\n",
    "\n",
    "colunas2 = df2.columns.values\n",
    "df2tupla = [tuple(x) for x in [df2[coluna].values for coluna in colunas2]]\n",
    "\n"
   ]
  },
  {
   "cell_type": "code",
   "execution_count": null,
   "metadata": {},
   "outputs": [],
   "source": []
  },
  {
   "cell_type": "code",
   "execution_count": null,
   "metadata": {},
   "outputs": [],
   "source": []
  },
  {
   "cell_type": "markdown",
   "metadata": {},
   "source": [
    "center_point_tuple = tuple(center_point[0].values()) # (-7.7940023, 110.3656535)\n",
    "test_point_tuple = tuple(test_point[0].values()) # (-7.79457, 110.36563)\n",
    "\n",
    "dis = distance.distance(center_point_tuple, test_point_tuple).km\n",
    "print(\"Distance: {}\".format(dis)) # Distance: 0.0628380925748918\n",
    "\n",
    "if dis <= radius:\n",
    "    print(\"{} point is inside the {} km radius from {} coordinate\".format(test_point_tuple, radius, center_point_tuple))\n",
    "else:\n",
    "    print(\"{} point is outside the {} km radius from {} coordinate\".format(test_point_tuple, radius, center_point_tuple))"
   ]
  },
  {
   "cell_type": "code",
   "execution_count": 161,
   "metadata": {
    "scrolled": true
   },
   "outputs": [],
   "source": []
  },
  {
   "cell_type": "code",
   "execution_count": null,
   "metadata": {},
   "outputs": [],
   "source": []
  }
 ],
 "metadata": {
  "kernelspec": {
   "display_name": "Python 3",
   "language": "python",
   "name": "python3"
  },
  "language_info": {
   "codemirror_mode": {
    "name": "ipython",
    "version": 3
   },
   "file_extension": ".py",
   "mimetype": "text/x-python",
   "name": "python",
   "nbconvert_exporter": "python",
   "pygments_lexer": "ipython3",
   "version": "3.6.5"
  }
 },
 "nbformat": 4,
 "nbformat_minor": 2
}
